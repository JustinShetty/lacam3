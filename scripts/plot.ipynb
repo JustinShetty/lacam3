{
 "cells": [
  {
   "cell_type": "code",
   "execution_count": null,
   "metadata": {},
   "outputs": [],
   "source": [
    "from pathlib import Path\n",
    "\n",
    "import matplotlib.pyplot as plt\n",
    "import pandas as pd\n",
    "import seaborn as sns\n",
    "import yaml"
   ]
  },
  {
   "cell_type": "code",
   "execution_count": null,
   "metadata": {},
   "outputs": [],
   "source": [
    "fig_dir = Path.home() / \"dev/data/exp/follow/figures\"\n",
    "fig_dir.mkdir(parents=True, exist_ok=True)\n",
    "\n",
    "lacam_init_dir = Path.home() / \"dev/data/exp/follow/2024-11-17T21-23-48.366\"\n",
    "lacam_no_following_dir = Path.home() / \"dev/data/exp/follow/2024-11-17T22-52-35.961\""
   ]
  },
  {
   "cell_type": "code",
   "execution_count": null,
   "metadata": {},
   "outputs": [],
   "source": [
    "def read_yaml(file_path):\n",
    "    with open(file_path, mode=\"r\") as file:\n",
    "        data = yaml.safe_load(file)\n",
    "    return data"
   ]
  },
  {
   "cell_type": "code",
   "execution_count": null,
   "metadata": {},
   "outputs": [],
   "source": [
    "init_config = read_yaml(lacam_init_dir / \"config.yaml\")\n",
    "no_follow_config = read_yaml(lacam_no_following_dir / \"config.yaml\")\n",
    "assert init_config[\"maps\"] == no_follow_config[\"maps\"]\n",
    "map_names = [f\"{x}.map\" for x in init_config[\"maps\"]]\n",
    "\n",
    "lacam_df = pd.read_csv(lacam_init_dir / \"result.csv\")\n",
    "lacam_no_following_df = pd.read_csv(lacam_no_following_dir / \"result.csv\")\n",
    "\n",
    "df = pd.concat([lacam_df, lacam_no_following_df], ignore_index=True)"
   ]
  },
  {
   "cell_type": "code",
   "execution_count": null,
   "metadata": {},
   "outputs": [],
   "source": [
    "for map_name in map_names:\n",
    "    filtered_df = df[df[\"map_name\"] == map_name]\n",
    "    filtered_df = filtered_df.assign(\n",
    "        congestion=(100 * filtered_df[\"num_agents\"] / filtered_df[\"num_open_vertices\"])\n",
    "        .round(0)\n",
    "        .astype(int)\n",
    "    )\n",
    "\n",
    "    fields = [\"makespan\", \"comp_time\"]\n",
    "    labels = {\"makespan\": \"Makespan (steps)\", \"comp_time\": \"Computation Time (ms)\"}\n",
    "    jitter = {\"makespan\": 0.05, \"comp_time\": 0.05}\n",
    "    f, axs = plt.subplots(1, len(fields))\n",
    "    f.set_size_inches(18, 6)\n",
    "    plt.subplots_adjust(wspace=0.3)\n",
    "    for i, field in enumerate(fields):\n",
    "        ax = axs[i]\n",
    "\n",
    "        melted = filtered_df.melt(\n",
    "            id_vars=[\"congestion\", \"solver\"],\n",
    "            var_name=\"measurement\",\n",
    "            value_vars=[field],\n",
    "        )\n",
    "        sns.despine(left=False, bottom=False)\n",
    "        ax = sns.stripplot(\n",
    "            data=melted,\n",
    "            x=\"congestion\",\n",
    "            y=\"value\",\n",
    "            hue=\"solver\",\n",
    "            dodge=True,\n",
    "            alpha=0.3,\n",
    "            jitter=jitter[field],\n",
    "            ax=ax,\n",
    "            legend=False,\n",
    "            zorder=1,\n",
    "        )\n",
    "\n",
    "        sns.pointplot(\n",
    "            data=melted,\n",
    "            x=\"congestion\",\n",
    "            y=\"value\",\n",
    "            hue=\"solver\",\n",
    "            dodge=0.8 - 0.8 / 2,\n",
    "            palette=\"dark\",\n",
    "            errorbar=None,\n",
    "            markers=\"_\",\n",
    "            markersize=10,\n",
    "            linestyle=\"none\",\n",
    "            ax=ax,\n",
    "        )\n",
    "\n",
    "        sns.move_legend(\n",
    "            ax,\n",
    "            loc=\"lower right\",\n",
    "            ncol=3,\n",
    "            frameon=True,\n",
    "            columnspacing=1,\n",
    "            handletextpad=0,\n",
    "        )\n",
    "\n",
    "        ax.set_title(map_name)\n",
    "        ax.set_xlabel(\"Congestion (%)\")\n",
    "        ax.set_ylabel(labels[field])\n",
    "        ax.get_legend().set_title(\"Solver\")\n",
    "        ax.get_legend().remove()\n",
    "    plt.show()"
   ]
  }
 ],
 "metadata": {
  "kernelspec": {
   "display_name": "venv",
   "language": "python",
   "name": "python3"
  },
  "language_info": {
   "codemirror_mode": {
    "name": "ipython",
    "version": 3
   },
   "file_extension": ".py",
   "mimetype": "text/x-python",
   "name": "python",
   "nbconvert_exporter": "python",
   "pygments_lexer": "ipython3",
   "version": "3.12.7"
  }
 },
 "nbformat": 4,
 "nbformat_minor": 2
}
